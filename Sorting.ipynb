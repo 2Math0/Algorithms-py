{
 "cells": [
  {
   "cell_type": "code",
   "execution_count": 26,
   "id": "d75dc64f",
   "metadata": {},
   "outputs": [],
   "source": [
    "sort_me = [23,56,6,712,36,9,3,57,0]"
   ]
  },
  {
   "cell_type": "markdown",
   "id": "0d00f9d9",
   "metadata": {},
   "source": [
    "# Sorting pivots\n",
    "means to grap an object out of list and make two lists aside whether they are lower or bigger\n",
    "then sort these lists by pivots again and again\n",
    "\n",
    "__work time :__\n",
    "\n",
    "_average = O(n^2)_\n",
    "\n",
    "_max = O(n log n)_\n"
   ]
  },
  {
   "cell_type": "code",
   "execution_count": 27,
   "id": "151a1522",
   "metadata": {},
   "outputs": [],
   "source": [
    "#intro for sorting\n",
    "def quick_sort(sequence):\n",
    "    l = len(sequence)\n",
    "    if l <= 1:\n",
    "        return sequence\n",
    "    else:\n",
    "        pivot = sequence.pop()\n",
    "    \n",
    "    items_greater = []\n",
    "    items_lower = []\n",
    "    \n",
    "    for item in sequence:\n",
    "        if item > pivot:\n",
    "            items_greater.append(item)\n",
    "        else:\n",
    "            items_lower.append(item)\n",
    "    return quick_sort(items_lower) + [pivot] + quick_sort(items_greater)\n",
    "    print(quick_sort(sort_me))"
   ]
  },
  {
   "cell_type": "markdown",
   "id": "e1c30cd5",
   "metadata": {},
   "source": [
    "## Selection Sort\n",
    "\n",
    "we get the __first number__ and consider it the _lowest number_ then combarison it with numbers to his right and when ever we found ___lower number___ we change the definition of lowest to the new lower number, finally we insert the _lowest_ as a frst item and then do the rest again and again\n",
    "\n",
    "that shuold work more efficient than the pivot method\n",
    "because once we did it once the list size go down and sometimes some loops don't need to excute in its full power\n",
    "and also the swaping."
   ]
  },
  {
   "cell_type": "code",
   "execution_count": 28,
   "id": "8d723c6b",
   "metadata": {},
   "outputs": [
    {
     "name": "stdout",
     "output_type": "stream",
     "text": [
      "[0, 3, 6, 9, 23, 36, 56, 57, 712]\n"
     ]
    }
   ],
   "source": [
    "def selection_sort(list_s):\n",
    "    # len-1 because once we have only one item in the list we won't need to sort it\n",
    "    indexing_length = range(0, len(list_s)-1)\n",
    "    \n",
    "    for i in indexing_length:\n",
    "        min_value = i\n",
    "        \n",
    "        for j in range(i+1, len(list_s)):\n",
    "            if list_s[min_value] > list_s[j]:\n",
    "                min_value = j\n",
    "        #Swaping\n",
    "        if min_value != i:\n",
    "            list_s[min_value], list_s[i] = list_s[i], list_s[min_value]\n",
    "    return list_s\n",
    "\n",
    "print(selection_sort([23,56,6,712,36,9,3,57,0]))"
   ]
  },
  {
   "cell_type": "markdown",
   "id": "06f74d25",
   "metadata": {},
   "source": [
    "## Insertion Sort\n",
    "\n",
    "we take the _first item(sorted)_ aside and compare it to the rest of the list __item by item__, in each time we compare first item from the list to our _sorted_ see who is the _lower_ and swap if they aren't in right position, next we go to the next item in the list and let it go to our sorted list and see if it is less or more than the last item in our sorted one if lower he will be swaped to the right position and so on.\n",
    "\n",
    "__Input__: A sequence of n numbers *(a1,a2,...,an)*.\n",
    "\n",
    "__Output__: A permutation (reordering) *(a1,a2,...,an)* of the input sequence such\n",
    "that a1 =< a2 =< . . . an .\n",
    "\n",
    "__Time Complexity:__ O(n^2)\n",
    "\n",
    "__Auxiliary Space:__ O(1)"
   ]
  },
  {
   "cell_type": "code",
   "execution_count": 29,
   "id": "f4b1b4a3",
   "metadata": {},
   "outputs": [
    {
     "name": "stdout",
     "output_type": "stream",
     "text": [
      "[0, 3, 6, 9, 23, 36, 56, 57, 712]\n"
     ]
    }
   ],
   "source": [
    "def insertion_sort(list_s):\n",
    "    indexing_length = range(1, len(list_s))\n",
    "    \n",
    "    for i in indexing_length:\n",
    "        #the value that needs to be sorted called key\n",
    "        key = list_s[i]\n",
    "        j = i-1\n",
    "        while list_s[j] > key and j >= 0:\n",
    "            list_s[j+1] = list_s[j]\n",
    "            #that line make the while loop goes on\n",
    "            #as it compares key with the rest of list in backwards\n",
    "            j -= 1\n",
    "            list_s[j+1] = key\n",
    "    return list_s\n",
    "print(insertion_sort(sort_me))"
   ]
  },
  {
   "cell_type": "code",
   "execution_count": null,
   "id": "7ca07a30",
   "metadata": {},
   "outputs": [],
   "source": []
  }
 ],
 "metadata": {
  "kernelspec": {
   "display_name": "Python 3.10.4 64-bit",
   "language": "python",
   "name": "python3"
  },
  "language_info": {
   "codemirror_mode": {
    "name": "ipython",
    "version": 3
   },
   "file_extension": ".py",
   "mimetype": "text/x-python",
   "name": "python",
   "nbconvert_exporter": "python",
   "pygments_lexer": "ipython3",
   "version": "3.10.4"
  },
  "vscode": {
   "interpreter": {
    "hash": "916dbcbb3f70747c44a77c7bcd40155683ae19c65e1c03b4aa3499c5328201f1"
   }
  }
 },
 "nbformat": 4,
 "nbformat_minor": 5
}
