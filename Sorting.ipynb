{
 "cells": [
  {
   "cell_type": "code",
   "execution_count": 3,
   "id": "d75dc64f",
   "metadata": {},
   "outputs": [],
   "source": [
    "sort_me = [23,56,6,712,36,9,3,57,0]"
   ]
  },
  {
   "cell_type": "markdown",
   "id": "0d00f9d9",
   "metadata": {},
   "source": [
    "# Sorting pivots\n",
    "means to grap an object out of list and make two lists aside whether they are lower or bigger\n",
    "then sort these lists by pivots again and again\n",
    "\n",
    "__work time :__\n",
    "\n",
    "_average = O(n^2)_\n",
    "\n",
    "_max = O(n log n)_\n"
   ]
  },
  {
   "cell_type": "code",
   "execution_count": 27,
   "id": "151a1522",
   "metadata": {},
   "outputs": [],
   "source": [
    "#intro for sorting\n",
    "def quick_sort(sequence):\n",
    "    l = len(sequence)\n",
    "    if l <= 1:\n",
    "        return sequence\n",
    "    else:\n",
    "        pivot = sequence.pop()\n",
    "    \n",
    "    items_greater = []\n",
    "    items_lower = []\n",
    "    \n",
    "    for item in sequence:\n",
    "        if item > pivot:\n",
    "            items_greater.append(item)\n",
    "        else:\n",
    "            items_lower.append(item)\n",
    "    return quick_sort(items_lower) + [pivot] + quick_sort(items_greater)\n",
    "    print(quick_sort(sort_me))"
   ]
  },
  {
   "cell_type": "markdown",
   "id": "e1c30cd5",
   "metadata": {},
   "source": [
    "## Selection Sort\n",
    "\n",
    "we get the __first number__ and consider it the _lowest number_ then combarison it with numbers to his right and when ever we found ___lower number___ we change the definition of lowest to the new lower number, finally we insert the _lowest_ as a frst item and then do the rest again and again\n",
    "\n",
    "that shuold work more efficient than the pivot method\n",
    "because once we did it once the list size go down and sometimes some loops don't need to excute in its full power\n",
    "and also the swaping."
   ]
  },
  {
   "cell_type": "code",
   "execution_count": 28,
   "id": "8d723c6b",
   "metadata": {},
   "outputs": [
    {
     "name": "stdout",
     "output_type": "stream",
     "text": [
      "[0, 3, 6, 9, 23, 36, 56, 57, 712]\n"
     ]
    }
   ],
   "source": [
    "def selection_sort(list_s):\n",
    "    # len-1 because once we have only one item in the list we won't need to sort it\n",
    "    indexing_length = range(0, len(list_s)-1)\n",
    "    \n",
    "    for i in indexing_length:\n",
    "        min_value = i\n",
    "        \n",
    "        for j in range(i+1, len(list_s)):\n",
    "            if list_s[min_value] > list_s[j]:\n",
    "                min_value = j\n",
    "        #Swaping\n",
    "        if min_value != i:\n",
    "            list_s[min_value], list_s[i] = list_s[i], list_s[min_value]\n",
    "    return list_s\n",
    "\n",
    "print(selection_sort([23,56,6,712,36,9,3,57,0]))"
   ]
  },
  {
   "cell_type": "markdown",
   "id": "06f74d25",
   "metadata": {},
   "source": [
    "## Insertion Sort\n",
    "\n",
    "we take the _first item(sorted)_ aside and compare it to the rest of the list __item by item__, in each time we compare first item from the list to our _sorted_ see who is the _lower_ and swap if they aren't in right position, next we go to the next item in the list and let it go to our sorted list and see if it is less or more than the last item in our sorted one if lower he will be swaped to the right position and so on.\n",
    "\n",
    "__Input__: A sequence of n numbers *(a1,a2,...,an)*.\n",
    "\n",
    "__Output__: A permutation (reordering) *(a1,a2,...,an)* of the input sequence such\n",
    "that a1 =< a2 =< . . . an .\n",
    "\n",
    "__Time Complexity(worst):__ O(n^2)\n",
    "\n",
    "Time Complexity(Best): O(n)\n",
    "\n",
    "__Auxiliary Space:__ O(1)\n",
    "\n",
    "__Algorithm Structure__ _incremental_"
   ]
  },
  {
   "cell_type": "code",
   "execution_count": 4,
   "id": "f4b1b4a3",
   "metadata": {},
   "outputs": [
    {
     "name": "stdout",
     "output_type": "stream",
     "text": [
      "[0, 3, 6, 9, 23, 36, 56, 57, 712]\n"
     ]
    }
   ],
   "source": [
    "def insertion_sort(list_s):\n",
    "    indexing_length = range(1, len(list_s))\n",
    "    \n",
    "    for i in indexing_length:\n",
    "        #the value that needs to be sorted called key\n",
    "        key = list_s[i]\n",
    "        j = i-1\n",
    "        while list_s[j] > key and j >= 0:\n",
    "            list_s[j+1] = list_s[j]\n",
    "            #that line make the while loop goes on\n",
    "            #as it compares key with the rest of list in backwards\n",
    "            j -= 1\n",
    "            list_s[j+1] = key\n",
    "    return list_s\n",
    "print(insertion_sort(sort_me))"
   ]
  },
  {
   "cell_type": "markdown",
   "id": "87a540b5",
   "metadata": {},
   "source": [
    "## Merge Sort\n",
    "\n",
    "we use divide-conque approach where the array is \n",
    "* Divided(into small subarrays until each array contains one element)\n",
    "* Conquer(solve each subarray alone by cmaparing them)\n",
    "* and Combine (combine each solved subarray)\n",
    "\n",
    "<img src=\"http://cppbetterexplained.com/wp-content/uploads/2016/06/merge-sort-algorithm-diagram.png\" width=50%/>\n",
    "\n",
    "as in figure the merge sort consists of two method merge_sort where the recrusive function takes a part and merge method where the subarrays are conquerd and combined\n",
    "\n",
    "\n",
    "To know who it works the merge sort first take care of all left subarrays with its left descendants and when it reach to the last left it begins to take care of the last right and then come back tp ancenstors and solve each right and combine each solved left and right until merging the first left and right subarrays\n",
    "\n",
    "__Time Complexity:__ O(n log n)\n",
    "\n",
    "__Algorithm Structure:__ *recrusive*\n",
    "\n",
    "__Algorithm Analysis:__ recurrence equation and Master Theorem \n",
    "\n",
    "                                O(1) = c        if n=<c,\n",
    "<pre><b><i>recurrence equation T(n)</i></b>=                              where n%2 = 0</pre>\n",
    "                                2 T(n/2) + cn or O(n)               \n",
    "\n"
   ]
  },
  {
   "cell_type": "code",
   "execution_count": 1,
   "id": "9ad5e876",
   "metadata": {},
   "outputs": [],
   "source": [
    "# funtion to divide the lists in the two sublists  \n",
    "def merge_sort(list1, left_index, right_index):  \n",
    "    if left_index >= right_index:  \n",
    "        return  \n",
    "  \n",
    "    middle = (left_index + right_index)//2  \n",
    "    merge_sort(list1, left_index, middle)  \n",
    "    merge_sort(list1, middle + 1, right_index)  \n",
    "    merge(list1, left_index, right_index, middle)  \n",
    "  \n",
    "  \n",
    "    # Defining a function for merge the list  \n",
    "def merge(list1, left_index, right_index, middle):  \n",
    "  \n",
    "  \n",
    "   # Creating subparts of a lists  \n",
    "    left_sublist = list1[left_index:middle + 1]  \n",
    "    right_sublist = list1[middle+1:right_index+1]  \n",
    "  \n",
    "    # Initial values for variables that we use to keep  \n",
    "    # track of where we are in each list1  \n",
    "    left_sublist_index = 0  \n",
    "    right_sublist_index = 0  \n",
    "    sorted_index = left_index  \n",
    "  \n",
    "    # traverse both copies until we get run out one element  \n",
    "    while left_sublist_index < len(left_sublist) and right_sublist_index < len(right_sublist):  \n",
    "  \n",
    "        # If our left_sublist has the smaller element, put it in the sorted  \n",
    "        # part and then move forward in left_sublist (by increasing the pointer)  \n",
    "        if left_sublist[left_sublist_index] <= right_sublist[right_sublist_index]:  \n",
    "            list1[sorted_index] = left_sublist[left_sublist_index]  \n",
    "            left_sublist_index = left_sublist_index + 1  \n",
    "        # Otherwise add it into the right sublist  \n",
    "        else:  \n",
    "            list1[sorted_index] = right_sublist[right_sublist_index]  \n",
    "            right_sublist_index = right_sublist_index + 1  \n",
    "  \n",
    "  \n",
    "        # move forward in the sorted part  \n",
    "        sorted_index = sorted_index + 1  \n",
    "  \n",
    "       \n",
    "    # we will go through the remaining elements and add them  \n",
    "    while left_sublist_index < len(left_sublist):  \n",
    "        list1[sorted_index] = left_sublist[left_sublist_index]  \n",
    "        left_sublist_index = left_sublist_index + 1  \n",
    "        sorted_index = sorted_index + 1  \n",
    "  \n",
    "    while right_sublist_index < len(right_sublist):  \n",
    "        list1[sorted_index] = right_sublist[right_sublist_index]  \n",
    "        right_sublist_index = right_sublist_index + 1  \n",
    "        sorted_index = sorted_index + 1  "
   ]
  },
  {
   "cell_type": "code",
   "execution_count": null,
   "id": "b2825707",
   "metadata": {},
   "outputs": [],
   "source": []
  }
 ],
 "metadata": {
  "kernelspec": {
   "display_name": "Python 3.10.4 64-bit",
   "language": "python",
   "name": "python3"
  },
  "language_info": {
   "codemirror_mode": {
    "name": "ipython",
    "version": 3
   },
   "file_extension": ".py",
   "mimetype": "text/x-python",
   "name": "python",
   "nbconvert_exporter": "python",
   "pygments_lexer": "ipython3",
   "version": "3.10.6"
  },
  "vscode": {
   "interpreter": {
    "hash": "916dbcbb3f70747c44a77c7bcd40155683ae19c65e1c03b4aa3499c5328201f1"
   }
  }
 },
 "nbformat": 4,
 "nbformat_minor": 5
}
