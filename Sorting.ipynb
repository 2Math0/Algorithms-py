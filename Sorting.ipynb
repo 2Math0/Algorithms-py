{
 "cells": [
  {
   "cell_type": "markdown",
   "id": "0d00f9d9",
   "metadata": {},
   "source": [
    "# Sorting pivots\n",
    "means to grap an object out of list and make two lists aside whether they are lower or bigger\n",
    "then sort these lists by pivots again and again\n",
    "\n",
    "__work time :__\n",
    "\n",
    "_average = O(n^2)_\n",
    "\n",
    "_max = O(n log n)_\n"
   ]
  },
  {
   "cell_type": "code",
   "execution_count": 2,
   "id": "151a1522",
   "metadata": {},
   "outputs": [],
   "source": [
    "#intro for sorting\n",
    "def quick_sort(sequence):\n",
    "    l = len(sequence)\n",
    "    if l <= 1:\n",
    "        return sequence\n",
    "    else:\n",
    "        pivot = sequence.pop()\n",
    "    \n",
    "    items_greater = []\n",
    "    items_lower = []\n",
    "    \n",
    "    for item in sequence:\n",
    "        if item > pivot:\n",
    "            items_greater.append(item)\n",
    "        else:\n",
    "            items_lower.append(item)\n",
    "    return quick_sort(items_lower) + [pivot] + quick_sort(items_greater)"
   ]
  },
  {
   "cell_type": "code",
   "execution_count": 3,
   "id": "d75dc64f",
   "metadata": {},
   "outputs": [
    {
     "name": "stdout",
     "output_type": "stream",
     "text": [
      "[0, 3, 6, 9, 23, 36, 56, 57, 712]\n"
     ]
    }
   ],
   "source": [
    "print(quick_sort([23,56,6,712,36,9,3,57,0]))"
   ]
  },
  {
   "cell_type": "code",
   "execution_count": null,
   "id": "7e9a7b2f",
   "metadata": {},
   "outputs": [],
   "source": []
  }
 ],
 "metadata": {
  "kernelspec": {
   "display_name": "Python 3",
   "language": "python",
   "name": "python3"
  },
  "language_info": {
   "codemirror_mode": {
    "name": "ipython",
    "version": 3
   },
   "file_extension": ".py",
   "mimetype": "text/x-python",
   "name": "python",
   "nbconvert_exporter": "python",
   "pygments_lexer": "ipython3",
   "version": "3.8.8"
  }
 },
 "nbformat": 4,
 "nbformat_minor": 5
}
